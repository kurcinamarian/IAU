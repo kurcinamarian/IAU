{
 "cells": [
  {
   "cell_type": "markdown",
   "id": "7505ce93-8093-4dd5-8a62-f02d3f0a604e",
   "metadata": {},
   "source": [
    "<center>\n",
    "<h1>Intelligent Data Analysis Project</h1>\n",
    "<h4>Matej Bebej (50%), Marian Kurcina (50%)</h4>\n",
    "</center>"
   ]
  },
  {
   "cell_type": "markdown",
   "id": "9062f0e4-a659-4faf-af3c-64c5ef828a1b",
   "metadata": {},
   "source": [
    "## Table of Contents\n",
    "Phase 1 - Exploratory Data Analysis\n",
    "- 1.1 - Basic description of data and their characteristics\n",
    "  - A - Data structure analysis \n",
    "  - B - Analysis of individual attributes\n",
    "  - C - Paiwise data analysis\n",
    "  - D - Potential predictors\n",
    "  - E -\n",
    "- 1.2 -\n",
    "  - A -\n",
    "  - B -\n",
    "  - C -\n",
    "- 1.3 -\n",
    "  - A -\n",
    "      - Hypothesis 1 -\n",
    "      - Hypothesis 2 -\n",
    "  - B -\n",
    "      - Hypothesis 1 -\n",
    "      - Hypothesis 2 - \n",
    "Conclusion\n",
    "<br><br><br>"
   ]
  },
  {
   "cell_type": "markdown",
   "id": "7efc076e-ecff-41ae-b539-22692656f0f5",
   "metadata": {},
   "source": [
    "# Phase 1 – Exploratory Data Analysis"
   ]
  },
  {
   "cell_type": "markdown",
   "id": "3fd6eb74-59ff-4af8-9cf8-bce745bea7c9",
   "metadata": {},
   "source": [
    "## 1.1 - Basic description of data and their characteristics"
   ]
  },
  {
   "cell_type": "markdown",
   "id": "33ad8342-da59-4ebd-b063-f6686119e749",
   "metadata": {},
   "source": [
    "### A - Data structure analysis"
   ]
  },
  {
   "cell_type": "markdown",
   "id": "f427d131-b347-4714-be66-0131c7fefdc3",
   "metadata": {},
   "source": [
    "Analyze file structures and relationships (number, types, etc.), records (structure, number of records, number of attributes, types, etc.)."
   ]
  },
  {
   "cell_type": "code",
   "execution_count": null,
   "id": "438216ab-fa50-4a51-9d58-1b79f17b760c",
   "metadata": {},
   "outputs": [],
   "source": [
    "# code"
   ]
  },
  {
   "cell_type": "markdown",
   "id": "99aae19f-353f-4823-98c4-40146d0585e8",
   "metadata": {},
   "source": [
    "Comment"
   ]
  },
  {
   "cell_type": "markdown",
   "id": "615b88f5-5da2-4861-bbba-6a3ffb6faf2e",
   "metadata": {},
   "source": [
    "### B - Analysis of individual attributes"
   ]
  },
  {
   "cell_type": "markdown",
   "id": "83474c6e-bcec-4063-9522-eef4ad72f87f",
   "metadata": {},
   "source": [
    "For at least 10 selected significant attributes, analyze their distributions and basic descriptive statistics, and check whether they meet the required conditions and the expected range of measured values."
   ]
  },
  {
   "cell_type": "code",
   "execution_count": null,
   "id": "2219ae44-5842-46f2-9c37-afd82852249e",
   "metadata": {},
   "outputs": [],
   "source": [
    "# code "
   ]
  },
  {
   "cell_type": "markdown",
   "id": "e06fa9a3-e802-4980-a25a-df138666cecc",
   "metadata": {},
   "source": [
    "Comment"
   ]
  },
  {
   "cell_type": "markdown",
   "id": "b8ee3dbe-e11b-4d7f-b42e-454c1a236e60",
   "metadata": {},
   "source": [
    "### C - Pairwise data analysis"
   ]
  },
  {
   "cell_type": "markdown",
   "id": "0e9a2fcd-cad2-4364-b7be-355bc6622e8b",
   "metadata": {},
   "source": [
    "Identify relationships and dependencies between pairs of attributes."
   ]
  },
  {
   "cell_type": "code",
   "execution_count": null,
   "id": "b14f0f89-f673-48ec-a02a-219dc4a7cc31",
   "metadata": {},
   "outputs": [],
   "source": [
    "# code"
   ]
  },
  {
   "cell_type": "markdown",
   "id": "734a7b63-4ce8-4409-ae9c-1d6eaeecd1ab",
   "metadata": {},
   "source": [
    "Comment"
   ]
  },
  {
   "cell_type": "markdown",
   "id": "ee6a1439-a19d-4a5f-ba8e-1b0af04467eb",
   "metadata": {},
   "source": [
    "### D - Potential predictors"
   ]
  },
  {
   "cell_type": "markdown",
   "id": "ac5a2851-5174-4594-b95a-1b87fd5e67e2",
   "metadata": {},
   "source": [
    "Identify dependencies between the predicted variable and other variables (potential predictors)."
   ]
  },
  {
   "cell_type": "markdown",
   "id": "2d97ba14-ca4a-494c-b620-dd8da0a20639",
   "metadata": {},
   "source": [
    "### E - Observations"
   ]
  },
  {
   "cell_type": "markdown",
   "id": "74741f4e-3a8f-45e1-8eb6-e27f02da4f15",
   "metadata": {},
   "source": [
    "Comment"
   ]
  },
  {
   "cell_type": "markdown",
   "id": "5edec5dd-11ab-4e4c-9e99-e64b24e6fa4f",
   "metadata": {},
   "source": [
    "## 1.2 - Identification of problems, data integration, and cleaning"
   ]
  },
  {
   "cell_type": "markdown",
   "id": "65beda34-14ee-4a1e-8f68-982635ec427b",
   "metadata": {},
   "source": [
    "## A - Data problems"
   ]
  },
  {
   "cell_type": "markdown",
   "id": "b9ed92c2-0f02-47db-bb4d-5a35490f9123",
   "metadata": {},
   "source": [
    "Identify and initially address data problems such as: unsuitable data structure, duplicate records that may arise after certain transformations, inconsistent formats, missing values, and outliers. Other (not listed) problems may also occur, or fewer problems than those mentioned."
   ]
  },
  {
   "cell_type": "code",
   "execution_count": null,
   "id": "36173ac0-11b0-4083-81ab-c4078fa3ae48",
   "metadata": {},
   "outputs": [],
   "source": [
    "# code"
   ]
  },
  {
   "cell_type": "markdown",
   "id": "1329b59e-e86b-47cd-be07-75372ca52595",
   "metadata": {},
   "source": [
    "Comment"
   ]
  },
  {
   "cell_type": "markdown",
   "id": "ba93d8c1-c313-4f37-b859-7655bcb1e4d7",
   "metadata": {},
   "source": [
    "## B -  Data accuracy check"
   ]
  },
  {
   "cell_type": "markdown",
   "id": "a8149e09-f985-4260-bc6d-2cc9f37f9737",
   "metadata": {},
   "source": [
    "Do the data contain abnormal values?\n",
    "Do they include illogical relationships caused by data collection or annotation errors?"
   ]
  },
  {
   "cell_type": "code",
   "execution_count": null,
   "id": "dbdd7db3-d461-4487-b8e2-bf02d92add7b",
   "metadata": {},
   "outputs": [],
   "source": [
    "# code"
   ]
  },
  {
   "cell_type": "markdown",
   "id": "899d41e4-bce8-4b64-97dd-ef870c26e744",
   "metadata": {},
   "source": [
    "Comment"
   ]
  },
  {
   "cell_type": "markdown",
   "id": "52cb052c-bb06-42ab-96f4-0502477247ca",
   "metadata": {},
   "source": [
    "### C - Outlier detection"
   ]
  },
  {
   "cell_type": "markdown",
   "id": "2fbefd55-8def-454c-98fb-92baada503ae",
   "metadata": {},
   "source": [
    "Try to solve the problem using at least two techniques, e.g.:\n",
    " - Removing outliers or extreme observations\n",
    " - Replacing outliers with boundary values of the distribution (e.g., 5%, 95%)"
   ]
  },
  {
   "cell_type": "code",
   "execution_count": null,
   "id": "97f43d4b-4e92-4d42-8680-94ef155c6fd1",
   "metadata": {},
   "outputs": [],
   "source": [
    "# code"
   ]
  },
  {
   "cell_type": "markdown",
   "id": "20f8bf94-a4f9-48cf-93d5-5fe6cde91011",
   "metadata": {},
   "source": [
    "Comment"
   ]
  },
  {
   "cell_type": "markdown",
   "id": "795e9948-d703-43aa-8c17-703a0e09c437",
   "metadata": {},
   "source": [
    "## 1.3 Formulation and statistical verification of hypotheses about the data"
   ]
  },
  {
   "cell_type": "markdown",
   "id": "1e31dd10-b2c2-4784-99c2-eefd596be72d",
   "metadata": {},
   "source": [
    "### A - Hypotheses"
   ]
  },
  {
   "cell_type": "markdown",
   "id": "fa20f534-aa93-4856-9725-871c177f34fe",
   "metadata": {},
   "source": [
    "Formulate two hypotheses about the data in the context of the given prediction task. Verify the formulated hypotheses using appropriately chosen statistical tests.\n",
    "Example formulation:\n",
    "“FiO₂ has a higher average value in the state with oximetry than without it.”"
   ]
  },
  {
   "cell_type": "markdown",
   "id": "b10124e4-dc31-4214-b920-90d2b9daec42",
   "metadata": {},
   "source": [
    "#### Hypothesis 1"
   ]
  },
  {
   "cell_type": "markdown",
   "id": "bd63bd3b-3517-4284-937d-62df092e6cde",
   "metadata": {},
   "source": [
    "Text of the hypothesis"
   ]
  },
  {
   "cell_type": "markdown",
   "id": "215765c5-85d7-4fc6-be06-a99ee3dd3e30",
   "metadata": {},
   "source": [
    "Test comment"
   ]
  },
  {
   "cell_type": "code",
   "execution_count": null,
   "id": "3f16ef78-9d7b-406f-963a-2eabb610c70b",
   "metadata": {},
   "outputs": [],
   "source": [
    "# code"
   ]
  },
  {
   "cell_type": "markdown",
   "id": "5fa006c6-f15f-4ce9-aedd-8ff176f97761",
   "metadata": {},
   "source": [
    "Comment"
   ]
  },
  {
   "cell_type": "markdown",
   "id": "2bd87869-0046-4c5b-806f-3db6879b6209",
   "metadata": {},
   "source": [
    "#### Hypothesis 2"
   ]
  },
  {
   "cell_type": "markdown",
   "id": "c19cf40a-eccb-420e-a6fc-2e2a59531b44",
   "metadata": {},
   "source": [
    "Text of the hypothesis"
   ]
  },
  {
   "cell_type": "markdown",
   "id": "4a8033ad-6f32-46c6-9c49-c160d24a0cfc",
   "metadata": {},
   "source": [
    "Test comment"
   ]
  },
  {
   "cell_type": "code",
   "execution_count": null,
   "id": "89b7cc03-4be0-4bc5-bf84-217cbda33a81",
   "metadata": {},
   "outputs": [],
   "source": [
    "# code"
   ]
  },
  {
   "cell_type": "markdown",
   "id": "6ebc4929-cf9c-4dd4-bf8f-c5a9eb100b48",
   "metadata": {},
   "source": [
    "Comment"
   ]
  },
  {
   "cell_type": "markdown",
   "id": "2eb077a9-c5a8-4614-bc2e-17e7b206d835",
   "metadata": {},
   "source": [
    "### B - Statistical power"
   ]
  },
  {
   "cell_type": "markdown",
   "id": "558f12a0-db08-4e13-bb62-488e15aa2a89",
   "metadata": {},
   "source": [
    "Verify whether your statistical tests have sufficient support from the data — that is, whether they have enough statistical power."
   ]
  },
  {
   "cell_type": "markdown",
   "id": "71d4dbc7-fc96-41c3-a1ca-5e8cae7c2a2c",
   "metadata": {},
   "source": [
    "#### Hypothesis 1"
   ]
  },
  {
   "cell_type": "markdown",
   "id": "5d65c067-7bee-4f6d-ae6e-9945f0900a6c",
   "metadata": {},
   "source": [
    "Comment"
   ]
  },
  {
   "cell_type": "code",
   "execution_count": 5,
   "id": "e7c443c9-e11e-4710-95d6-5ae953f3ff04",
   "metadata": {},
   "outputs": [],
   "source": [
    "# code"
   ]
  },
  {
   "cell_type": "markdown",
   "id": "7d9a9b50-6ad7-443d-9678-01effe99c28e",
   "metadata": {},
   "source": [
    "#### Hypothesis 2"
   ]
  },
  {
   "cell_type": "markdown",
   "id": "82eb94c1-8a16-46d6-990a-24cc8e82d780",
   "metadata": {},
   "source": [
    "Comment"
   ]
  },
  {
   "cell_type": "code",
   "execution_count": 6,
   "id": "c196f271-86e5-45fc-904c-e943790a5a02",
   "metadata": {},
   "outputs": [],
   "source": [
    "# code"
   ]
  },
  {
   "cell_type": "markdown",
   "id": "292ed59b-41c2-4841-978c-71ecac63e6c4",
   "metadata": {},
   "source": [
    "# Conclusion"
   ]
  },
  {
   "cell_type": "code",
   "execution_count": null,
   "id": "934b159d-6918-48e4-a9c1-650d0130c857",
   "metadata": {},
   "outputs": [],
   "source": []
  }
 ],
 "metadata": {
  "kernelspec": {
   "display_name": "Python 3 (ipykernel)",
   "language": "python",
   "name": "python3"
  },
  "language_info": {
   "codemirror_mode": {
    "name": "ipython",
    "version": 3
   },
   "file_extension": ".py",
   "mimetype": "text/x-python",
   "name": "python",
   "nbconvert_exporter": "python",
   "pygments_lexer": "ipython3",
   "version": "3.12.7"
  }
 },
 "nbformat": 4,
 "nbformat_minor": 5
}
