{
 "cells": [
  {
   "cell_type": "markdown",
   "id": "7505ce93-8093-4dd5-8a62-f02d3f0a604e",
   "metadata": {},
   "source": [
    "<center>\n",
    "<h1>Intelligent Data Analysis Project</h1>\n",
    "<h4>Matej Bebej (50%), Marian Kurcina (50%)</h4>\n",
    "</center>"
   ]
  },
  {
   "cell_type": "markdown",
   "id": "9062f0e4-a659-4faf-af3c-64c5ef828a1b",
   "metadata": {},
   "source": [
    "## Table of Contents\n",
    "Assignment    \n",
    "Phase 1 - Exploratory Data Analysis\n",
    "- 1.1 - Basic description of data and their characteristics\n",
    "  - A - Data structure analysis \n",
    "  - B - Analysis of individual attributes\n",
    "  - C - Paiwise data analysis\n",
    "  - D - Potential predictors\n",
    "  - E - Observations\n",
    "- 1.2 - Identification of problems, data integration, and cleaning\n",
    "  - A - Data problems\n",
    "  - B - Data accuracy check\n",
    "  - C - Outlier detection\n",
    "- 1.3 - Formulation and statistical verification of hypotheses about the data\n",
    "  - A - Hypotheses\n",
    "      - Hypothesis 1 -\n",
    "      - Hypothesis 2 -\n",
    "  - B - Statistical power\n",
    "      - Hypothesis 1 -\n",
    "      - Hypothesis 2 - \n",
    "Conclusion\n",
    "<br><br><br>"
   ]
  },
  {
   "cell_type": "markdown",
   "id": "40a4d3d7-d83f-47a2-b0c4-6f0b804ce862",
   "metadata": {},
   "source": [
    "# Assignment"
   ]
  },
  {
   "cell_type": "markdown",
   "id": "20d360b6-1c6d-43f2-8952-37d72900c651",
   "metadata": {},
   "source": [
    "Oxygen saturation is a key indicator of the proper functioning of the respiratory and circulatory systems. When its value drops to a critically low level, it may indicate life-threatening conditions such as hypoxemia, respiratory failure, or severe infections. In such cases, immediate intervention is essential. Traditional monitoring is performed using pulse oximeters, which, however, can be affected by noise, motion artifacts, or may have limitations in certain clinical situations.\n",
    "\n",
    "Modern machine learning–based approaches offer the possibility to estimate and predict critical oxygen saturation values with higher accuracy (critical oxygen saturation estimation). Models can utilize multimodal data, such as heart rate, respiratory rate, blood pressure, or sensor signals. By being trained on diverse datasets, it is possible to identify early warning signs of desaturation, filter out noise, and provide timely alerts even before oxygen saturation drops below a safe threshold.\n",
    "\n",
    "The goal of this assignment is to become familiar with the issue of oxygen saturation monitoring, understand the contribution of artificial intelligence, and design a solution that could improve critical care and reduce risks associated with undiagnosed hypoxemia.\n",
    "\n",
    "Each pair of students will work with an assigned dataset starting from Week 2. Your task is to predict the dependent variable “oximetry” (the predicted variable) using machine learning methods. In doing so, you will need to deal with various issues present in the data, such as inconsistent formats, missing values, outliers, and others.\n",
    "\n",
    "The expected outcomes of the project are:\n",
    "\n",
    " - the best-performing machine learning model, and\n",
    "\n",
    " - a data pipeline for building it from the input data."
   ]
  },
  {
   "cell_type": "markdown",
   "id": "7efc076e-ecff-41ae-b539-22692656f0f5",
   "metadata": {},
   "source": [
    "# Phase 1 – Exploratory Data Analysis"
   ]
  },
  {
   "cell_type": "code",
   "execution_count": 38,
   "id": "b9ccefe2-1d0a-4369-bcbd-f1c46d797941",
   "metadata": {},
   "outputs": [
    {
     "data": {
      "text/html": [
       "<div>\n",
       "<style scoped>\n",
       "    .dataframe tbody tr th:only-of-type {\n",
       "        vertical-align: middle;\n",
       "    }\n",
       "\n",
       "    .dataframe tbody tr th {\n",
       "        vertical-align: top;\n",
       "    }\n",
       "\n",
       "    .dataframe thead th {\n",
       "        text-align: right;\n",
       "    }\n",
       "</style>\n",
       "<table border=\"1\" class=\"dataframe\">\n",
       "  <thead>\n",
       "    <tr style=\"text-align: right;\">\n",
       "      <th></th>\n",
       "      <th>residence</th>\n",
       "      <th>current_location</th>\n",
       "      <th>blood_group</th>\n",
       "      <th>job</th>\n",
       "      <th>mail</th>\n",
       "      <th>user_id</th>\n",
       "      <th>birthdate</th>\n",
       "      <th>company</th>\n",
       "      <th>name</th>\n",
       "      <th>username</th>\n",
       "      <th>ssn</th>\n",
       "      <th>registration</th>\n",
       "      <th>station_ID</th>\n",
       "    </tr>\n",
       "  </thead>\n",
       "  <tbody>\n",
       "    <tr>\n",
       "      <th>0</th>\n",
       "      <td>NaN</td>\n",
       "      <td>(Decimal('-39.6140315'), Decimal('22.351713'))</td>\n",
       "      <td>A+</td>\n",
       "      <td>NaN</td>\n",
       "      <td>schachtkaren@web.de</td>\n",
       "      <td>1135</td>\n",
       "      <td>1923-01-03</td>\n",
       "      <td>Ruppert Stey GbR</td>\n",
       "      <td>Raymund Benthin</td>\n",
       "      <td>hornigdan</td>\n",
       "      <td>226-93-4078</td>\n",
       "      <td>2021-04-21</td>\n",
       "      <td>729</td>\n",
       "    </tr>\n",
       "    <tr>\n",
       "      <th>1</th>\n",
       "      <td>NaN</td>\n",
       "      <td>(Decimal('69.634637'), Decimal('66.117558'))</td>\n",
       "      <td>AB-</td>\n",
       "      <td>NaN</td>\n",
       "      <td>plopes@gmail.com</td>\n",
       "      <td>773</td>\n",
       "      <td>1918-05-23</td>\n",
       "      <td>Gonçalves e Filhos</td>\n",
       "      <td>Leonardo Mendonça</td>\n",
       "      <td>diasana-clara</td>\n",
       "      <td>35096471810</td>\n",
       "      <td>12/16/2019, 00:00:00</td>\n",
       "      <td>668</td>\n",
       "    </tr>\n",
       "    <tr>\n",
       "      <th>2</th>\n",
       "      <td>NaN</td>\n",
       "      <td>(Decimal('19.563271'), Decimal('-41.108627'))</td>\n",
       "      <td>AB-</td>\n",
       "      <td>NaN</td>\n",
       "      <td>tanakayoko@hotmail.com</td>\n",
       "      <td>1532</td>\n",
       "      <td>2001-01-04</td>\n",
       "      <td>中村食品有限会社</td>\n",
       "      <td>吉田 陽子</td>\n",
       "      <td>sayuri90</td>\n",
       "      <td>066-73-4209</td>\n",
       "      <td>2023/01/30</td>\n",
       "      <td>482</td>\n",
       "    </tr>\n",
       "    <tr>\n",
       "      <th>3</th>\n",
       "      <td>NaN</td>\n",
       "      <td>(Decimal('34.010482'), Decimal('129.946434'))</td>\n",
       "      <td>O-</td>\n",
       "      <td>NaN</td>\n",
       "      <td>brandoncruz@yahoo.com</td>\n",
       "      <td>2025</td>\n",
       "      <td>NaN</td>\n",
       "      <td>Silva-Gardner</td>\n",
       "      <td>Scott Thomas</td>\n",
       "      <td>rossjoy</td>\n",
       "      <td>368-27-2375</td>\n",
       "      <td>09 Feb 2024</td>\n",
       "      <td>284</td>\n",
       "    </tr>\n",
       "    <tr>\n",
       "      <th>4</th>\n",
       "      <td>NaN</td>\n",
       "      <td>(Decimal('61.148803'), Decimal('115.371931'))</td>\n",
       "      <td>O+</td>\n",
       "      <td>NaN</td>\n",
       "      <td>serragliogiorgio@tiscali.it</td>\n",
       "      <td>638</td>\n",
       "      <td>1997-05-14</td>\n",
       "      <td>Ortese-Agnesi s.r.l.</td>\n",
       "      <td>Dott. Maurilio Zanazzo</td>\n",
       "      <td>orlandogilardoni</td>\n",
       "      <td>SNSGNT39E71B896C</td>\n",
       "      <td>2022-03-09</td>\n",
       "      <td>572</td>\n",
       "    </tr>\n",
       "  </tbody>\n",
       "</table>\n",
       "</div>"
      ],
      "text/plain": [
       "   residence                                current_location blood_group  job  \\\n",
       "0        NaN  (Decimal('-39.6140315'), Decimal('22.351713'))          A+  NaN   \n",
       "1        NaN    (Decimal('69.634637'), Decimal('66.117558'))         AB-  NaN   \n",
       "2        NaN   (Decimal('19.563271'), Decimal('-41.108627'))         AB-  NaN   \n",
       "3        NaN   (Decimal('34.010482'), Decimal('129.946434'))          O-  NaN   \n",
       "4        NaN   (Decimal('61.148803'), Decimal('115.371931'))          O+  NaN   \n",
       "\n",
       "                          mail  user_id   birthdate               company  \\\n",
       "0          schachtkaren@web.de     1135  1923-01-03      Ruppert Stey GbR   \n",
       "1             plopes@gmail.com      773  1918-05-23    Gonçalves e Filhos   \n",
       "2       tanakayoko@hotmail.com     1532  2001-01-04              中村食品有限会社   \n",
       "3        brandoncruz@yahoo.com     2025         NaN         Silva-Gardner   \n",
       "4  serragliogiorgio@tiscali.it      638  1997-05-14  Ortese-Agnesi s.r.l.   \n",
       "\n",
       "                     name          username               ssn  \\\n",
       "0         Raymund Benthin         hornigdan       226-93-4078   \n",
       "1       Leonardo Mendonça     diasana-clara       35096471810   \n",
       "2                   吉田 陽子          sayuri90       066-73-4209   \n",
       "3            Scott Thomas           rossjoy       368-27-2375   \n",
       "4  Dott. Maurilio Zanazzo  orlandogilardoni  SNSGNT39E71B896C   \n",
       "\n",
       "           registration  station_ID  \n",
       "0            2021-04-21         729  \n",
       "1  12/16/2019, 00:00:00         668  \n",
       "2            2023/01/30         482  \n",
       "3           09 Feb 2024         284  \n",
       "4            2022-03-09         572  "
      ]
     },
     "execution_count": 38,
     "metadata": {},
     "output_type": "execute_result"
    }
   ],
   "source": [
    "import pandas as pd\n",
    "import numpy as np\n",
    "import matplotlib as plt\n",
    "observation = pd.read_csv(\"dataset/observation.csv\", sep='\\t')\n",
    "patient = pd.read_csv(\"dataset/patient.csv\", sep='\\t')\n",
    "station = pd.read_csv(\"dataset/station.csv\", sep='\\t')"
   ]
  },
  {
   "cell_type": "markdown",
   "id": "3fd6eb74-59ff-4af8-9cf8-bce745bea7c9",
   "metadata": {},
   "source": [
    "## 1.1 - Basic description of data and their characteristics"
   ]
  },
  {
   "cell_type": "markdown",
   "id": "33ad8342-da59-4ebd-b063-f6686119e749",
   "metadata": {},
   "source": [
    "### A - Data structure analysis"
   ]
  },
  {
   "cell_type": "markdown",
   "id": "f427d131-b347-4714-be66-0131c7fefdc3",
   "metadata": {},
   "source": [
    "Analyze file structures and relationships (number, types, etc.), records (structure, number of records, number of attributes, types, etc.)."
   ]
  },
  {
   "cell_type": "code",
   "execution_count": 24,
   "id": "77210668-e20d-4608-ad19-8e685dcda0c4",
   "metadata": {},
   "outputs": [
    {
     "name": "stdout",
     "output_type": "stream",
     "text": [
      "<class 'pandas.core.frame.DataFrame'>\n",
      "RangeIndex: 12107 entries, 0 to 12106\n",
      "Data columns (total 23 columns):\n",
      " #   Column                 Non-Null Count  Dtype  \n",
      "---  ------                 --------------  -----  \n",
      " 0   SpO₂                   12107 non-null  float64\n",
      " 1   HR                     12107 non-null  float64\n",
      " 2   PI                     12107 non-null  float64\n",
      " 3   RR                     12107 non-null  float64\n",
      " 4   EtCO₂                  12107 non-null  float64\n",
      " 5   FiO₂                   12107 non-null  float64\n",
      " 6   PRV                    12107 non-null  float64\n",
      " 7   BP                     12107 non-null  float64\n",
      " 8   Skin Temperature       12107 non-null  float64\n",
      " 9   Motion/Activity index  12107 non-null  float64\n",
      " 10  PVI                    12107 non-null  float64\n",
      " 11  Hb level               12107 non-null  float64\n",
      " 12  SV                     12107 non-null  float64\n",
      " 13  CO                     12107 non-null  float64\n",
      " 14  Blood Flow Index       12107 non-null  float64\n",
      " 15  PPG waveform features  12107 non-null  float64\n",
      " 16  Signal Quality Index   12107 non-null  float64\n",
      " 17  Respiratory effort     12107 non-null  float64\n",
      " 18  O₂ extraction ratio    12107 non-null  float64\n",
      " 19  SNR                    12107 non-null  float64\n",
      " 20  oximetry               12107 non-null  float64\n",
      " 21  latitude               12107 non-null  float64\n",
      " 22  longitude              12107 non-null  float64\n",
      "dtypes: float64(23)\n",
      "memory usage: 2.1 MB\n"
     ]
    }
   ],
   "source": [
    "observation.info()"
   ]
  },
  {
   "cell_type": "markdown",
   "id": "9ef68f31-bc5d-4785-b3f1-362a9b5bf081",
   "metadata": {},
   "source": [
    "From following output, we can deduce that the dataset \"observation\" includes:    \n",
    "- 12107 entries (rows)    \n",
    "- 23 atributes (columns)\n",
    "\n",
    "The dataset contains following attributes for each record:\n",
    "\n",
    "SpO₂, HR, PI, RR, EtCO₂, FiO₂, PRV, BP, Skin Temperature, Motion/Activity index, PVI, Hb level, SV, CO, Blood Flow Index, PVI, Hb level, SV, CO, Blood Flow Index, PPG waveform features, Signal Quality Index, Respiratory effort, O₂ extraction ratio, SNR, oximetry, latitude, longitude\n",
    "\n",
    "There are no attributes with null values, all attributes are float type."
   ]
  },
  {
   "cell_type": "code",
   "execution_count": 30,
   "id": "a662e601-1cb8-433f-90e8-a4e9425bc87c",
   "metadata": {},
   "outputs": [
    {
     "name": "stdout",
     "output_type": "stream",
     "text": [
      "<class 'pandas.core.frame.DataFrame'>\n",
      "RangeIndex: 2128 entries, 0 to 2127\n",
      "Data columns (total 13 columns):\n",
      " #   Column            Non-Null Count  Dtype  \n",
      "---  ------            --------------  -----  \n",
      " 0   residence         0 non-null      float64\n",
      " 1   current_location  2022 non-null   object \n",
      " 2   blood_group       2128 non-null   object \n",
      " 3   job               638 non-null    object \n",
      " 4   mail              2128 non-null   object \n",
      " 5   user_id           2128 non-null   int64  \n",
      " 6   birthdate         1170 non-null   object \n",
      " 7   company           2128 non-null   object \n",
      " 8   name              2128 non-null   object \n",
      " 9   username          2128 non-null   object \n",
      " 10  ssn               2128 non-null   object \n",
      " 11  registration      2128 non-null   object \n",
      " 12  station_ID        2128 non-null   int64  \n",
      "dtypes: float64(1), int64(2), object(10)\n",
      "memory usage: 216.3+ KB\n"
     ]
    }
   ],
   "source": [
    "patient.info()"
   ]
  },
  {
   "cell_type": "code",
   "execution_count": 31,
   "id": "04634a63-73d7-48a8-ac54-3c16db505a97",
   "metadata": {},
   "outputs": [
    {
     "name": "stdout",
     "output_type": "stream",
     "text": [
      "residence           2128\n",
      "current_location     106\n",
      "blood_group            0\n",
      "job                 1490\n",
      "mail                   0\n",
      "user_id                0\n",
      "birthdate            958\n",
      "company                0\n",
      "name                   0\n",
      "username               0\n",
      "ssn                    0\n",
      "registration           0\n",
      "station_ID             0\n",
      "dtype: int64\n"
     ]
    }
   ],
   "source": [
    "print(patient.isnull().sum())"
   ]
  },
  {
   "cell_type": "markdown",
   "id": "81b5c4eb-c4ed-4bb6-9d10-1ce8e2704c9d",
   "metadata": {},
   "source": [
    "From following output, we can deduce that the dataset \"patient\" includes:    \n",
    "- 2128 entries (rows)    \n",
    "- 13 atributes (columns)\n",
    "\n",
    "The dataset contains following attributes for records:\n",
    "\n",
    "residence, current_location, blood_group, job, mail, user_id, birthdate, company, name, username, ssn, registration, station_ID\n",
    "\n",
    "There are several attributes with null values:\n",
    "- residence - this attribute is not needed since it contains no non-null values\n",
    "- current_location - this attribute has 106 null values\n",
    "- job - this attribute has 1490 null values\n",
    "- birthday - this attribute has 958 null values\n",
    "\n",
    "residence is float type.\n",
    "current_location, blood_group, job, mail, birthdate, company, name, username, ssn, registration are object type.\n",
    "user_id, station_ID are int type\n"
   ]
  },
  {
   "cell_type": "code",
   "execution_count": 32,
   "id": "6a14f9c6-1965-40c9-9fe8-d7de29bc6fd0",
   "metadata": {},
   "outputs": [
    {
     "name": "stdout",
     "output_type": "stream",
     "text": [
      "<class 'pandas.core.frame.DataFrame'>\n",
      "RangeIndex: 772 entries, 0 to 771\n",
      "Data columns (total 6 columns):\n",
      " #   Column     Non-Null Count  Dtype  \n",
      "---  ------     --------------  -----  \n",
      " 0   location   772 non-null    object \n",
      " 1   code       770 non-null    object \n",
      " 2   revision   772 non-null    object \n",
      " 3   station    772 non-null    object \n",
      " 4   latitude   772 non-null    float64\n",
      " 5   longitude  772 non-null    float64\n",
      "dtypes: float64(2), object(4)\n",
      "memory usage: 36.3+ KB\n"
     ]
    }
   ],
   "source": [
    "station.info()"
   ]
  },
  {
   "cell_type": "code",
   "execution_count": 33,
   "id": "c86fcec0-7d51-402c-bbda-b15962cc70c3",
   "metadata": {},
   "outputs": [
    {
     "name": "stdout",
     "output_type": "stream",
     "text": [
      "location     0\n",
      "code         2\n",
      "revision     0\n",
      "station      0\n",
      "latitude     0\n",
      "longitude    0\n",
      "dtype: int64\n"
     ]
    }
   ],
   "source": [
    "print(station.isnull().sum())"
   ]
  },
  {
   "cell_type": "markdown",
   "id": "2df37b6f-237f-4893-a3dc-ea6e9c0fb8b7",
   "metadata": {},
   "source": [
    "From following output, we can deduce that the dataset \"station\" includes:    \n",
    "- 772 entries (rows)    \n",
    "- 6 atributes (columns)\n",
    "\n",
    "The dataset contains following attributes for records:\n",
    "\n",
    "location, code, revision, station, latitude, longtitude\n",
    "\n",
    "There is only one attribute which cntains null values:\n",
    "- code - this attribute has 2 null values\n",
    "\n",
    "location, code, revision, station is object type.\n",
    "latitude, longtitude are float type."
   ]
  },
  {
   "cell_type": "markdown",
   "id": "615b88f5-5da2-4861-bbba-6a3ffb6faf2e",
   "metadata": {},
   "source": [
    "### B - Analysis of individual attributes"
   ]
  },
  {
   "cell_type": "markdown",
   "id": "83474c6e-bcec-4063-9522-eef4ad72f87f",
   "metadata": {},
   "source": [
    "For at least 10 selected significant attributes, analyze their distributions and basic descriptive statistics, and check whether they meet the required conditions and the expected range of measured values."
   ]
  },
  {
   "cell_type": "code",
   "execution_count": 34,
   "id": "2219ae44-5842-46f2-9c37-afd82852249e",
   "metadata": {},
   "outputs": [
    {
     "name": "stdout",
     "output_type": "stream",
     "text": [
      "               SpO₂            HR            PI            RR         EtCO₂  \\\n",
      "count  12107.000000  12107.000000  12107.000000  12107.000000  12107.000000   \n",
      "mean      97.720877     78.139220      9.280387     16.420159     39.761272   \n",
      "std        0.849157      4.782149      3.432338      1.287131      1.220140   \n",
      "min       95.000000     60.000000      0.200000     12.000000     35.000000   \n",
      "25%       97.073862     74.938806      6.543803     15.418921     38.840854   \n",
      "50%       97.850262     78.124134      8.703433     16.493047     39.782823   \n",
      "75%       98.359154     81.345487     12.159623     17.466124     40.708415   \n",
      "max      100.000000    100.000000     20.000000     20.000000     45.000000   \n",
      "\n",
      "               FiO₂           PRV            BP  Skin Temperature  \\\n",
      "count  12107.000000  12107.000000  12107.000000      12107.000000   \n",
      "mean      61.836198    106.629738    106.142109         35.712456   \n",
      "std       10.182272     24.520873      3.676340          0.606630   \n",
      "min       21.000000     20.000000     90.000000         33.000000   \n",
      "25%       55.076625     90.088136    103.704873         35.307574   \n",
      "50%       61.853122    106.339196    106.122106         35.711898   \n",
      "75%       68.679155    123.256573    108.536922         36.114306   \n",
      "max      100.000000    200.000000    120.000000         38.000000   \n",
      "\n",
      "       Motion/Activity index  ...            CO  Blood Flow Index  \\\n",
      "count           12107.000000  ...  12107.000000      12107.000000   \n",
      "mean               10.013732  ...      4.068934         51.897652   \n",
      "std                 1.009803  ...      0.094006         12.439194   \n",
      "min                 6.063736  ...      4.000000          0.000000   \n",
      "25%                 9.331576  ...      4.021535         43.468302   \n",
      "50%                10.012485  ...      4.041752         51.983722   \n",
      "75%                10.698413  ...      4.081694         60.322630   \n",
      "max                14.205771  ...      8.000000        100.000000   \n",
      "\n",
      "       PPG waveform features  Signal Quality Index  Respiratory effort  \\\n",
      "count           12107.000000          12107.000000        12107.000000   \n",
      "mean               51.293918             50.545308           55.540997   \n",
      "std                11.859092             12.741621           11.301895   \n",
      "min                 0.000000              0.000000            0.000000   \n",
      "25%                43.298068             42.100520           47.965348   \n",
      "50%                51.298702             50.436869           55.588062   \n",
      "75%                59.309318             59.247765           63.116464   \n",
      "max               100.000000            100.000000          100.000000   \n",
      "\n",
      "       O₂ extraction ratio           SNR      oximetry      latitude  \\\n",
      "count         12107.000000  12107.000000  12107.000000  12107.000000   \n",
      "mean              0.249564     29.975732      0.596845     28.671404   \n",
      "std               0.028901      5.765204      0.490552     23.945771   \n",
      "min               0.200000     20.000000      0.000000    -54.800000   \n",
      "25%               0.224556     24.960719      0.000000     14.420440   \n",
      "50%               0.249187     30.054808      1.000000     36.246240   \n",
      "75%               0.274669     34.948440      1.000000     46.518720   \n",
      "max               0.300000     40.000000      1.000000     65.933810   \n",
      "\n",
      "          longitude  \n",
      "count  12107.000000  \n",
      "mean       9.237063  \n",
      "std       73.361001  \n",
      "min     -156.474320  \n",
      "25%      -67.331220  \n",
      "50%        8.881040  \n",
      "75%       71.211690  \n",
      "max      168.313660  \n",
      "\n",
      "[8 rows x 23 columns]\n"
     ]
    }
   ],
   "source": [
    "print(observation.describe())"
   ]
  },
  {
   "cell_type": "code",
   "execution_count": 35,
   "id": "a504bf72-ac3c-4478-9cb3-2e65f2a6c97a",
   "metadata": {},
   "outputs": [
    {
     "name": "stdout",
     "output_type": "stream",
     "text": [
      "       residence      user_id   station_ID\n",
      "count        0.0  2128.000000  2128.000000\n",
      "mean         NaN  1074.037594   390.836936\n",
      "std          NaN   611.516264   224.274660\n",
      "min          NaN     0.000000     0.000000\n",
      "25%          NaN   554.000000   193.000000\n",
      "50%          NaN  1074.500000   394.000000\n",
      "75%          NaN  1607.250000   587.250000\n",
      "max          NaN  2127.000000   770.000000\n"
     ]
    }
   ],
   "source": [
    "print(patient.describe())"
   ]
  },
  {
   "cell_type": "code",
   "execution_count": 36,
   "id": "04c77e07-d1ee-4cbe-a54d-d4996c970e0e",
   "metadata": {},
   "outputs": [
    {
     "name": "stdout",
     "output_type": "stream",
     "text": [
      "         latitude   longitude\n",
      "count  772.000000  772.000000\n",
      "mean    28.652487    9.132671\n",
      "std     23.967608   73.458813\n",
      "min    -54.800000 -156.474320\n",
      "25%     14.443685  -67.331220\n",
      "50%     36.230840    8.874040\n",
      "75%     46.372028   69.920535\n",
      "max     65.933810  168.313660\n"
     ]
    }
   ],
   "source": [
    "print(station.describe())"
   ]
  },
  {
   "cell_type": "markdown",
   "id": "e06fa9a3-e802-4980-a25a-df138666cecc",
   "metadata": {},
   "source": [
    "Comment"
   ]
  },
  {
   "cell_type": "markdown",
   "id": "b8ee3dbe-e11b-4d7f-b42e-454c1a236e60",
   "metadata": {},
   "source": [
    "### C - Pairwise data analysis"
   ]
  },
  {
   "cell_type": "markdown",
   "id": "0e9a2fcd-cad2-4364-b7be-355bc6622e8b",
   "metadata": {},
   "source": [
    "Identify relationships and dependencies between pairs of attributes."
   ]
  },
  {
   "cell_type": "code",
   "execution_count": null,
   "id": "b14f0f89-f673-48ec-a02a-219dc4a7cc31",
   "metadata": {},
   "outputs": [],
   "source": [
    "# code"
   ]
  },
  {
   "cell_type": "markdown",
   "id": "734a7b63-4ce8-4409-ae9c-1d6eaeecd1ab",
   "metadata": {},
   "source": [
    "Comment"
   ]
  },
  {
   "cell_type": "markdown",
   "id": "ee6a1439-a19d-4a5f-ba8e-1b0af04467eb",
   "metadata": {},
   "source": [
    "### D - Potential predictors"
   ]
  },
  {
   "cell_type": "markdown",
   "id": "ac5a2851-5174-4594-b95a-1b87fd5e67e2",
   "metadata": {},
   "source": [
    "Identify dependencies between the predicted variable and other variables (potential predictors)."
   ]
  },
  {
   "cell_type": "markdown",
   "id": "2d97ba14-ca4a-494c-b620-dd8da0a20639",
   "metadata": {},
   "source": [
    "### E - Observations"
   ]
  },
  {
   "cell_type": "markdown",
   "id": "74741f4e-3a8f-45e1-8eb6-e27f02da4f15",
   "metadata": {},
   "source": [
    "Comment"
   ]
  },
  {
   "cell_type": "markdown",
   "id": "5edec5dd-11ab-4e4c-9e99-e64b24e6fa4f",
   "metadata": {},
   "source": [
    "## 1.2 - Identification of problems, data integration, and cleaning"
   ]
  },
  {
   "cell_type": "markdown",
   "id": "65beda34-14ee-4a1e-8f68-982635ec427b",
   "metadata": {},
   "source": [
    "## A - Data problems"
   ]
  },
  {
   "cell_type": "markdown",
   "id": "b9ed92c2-0f02-47db-bb4d-5a35490f9123",
   "metadata": {},
   "source": [
    "Identify and initially address data problems such as: unsuitable data structure, duplicate records that may arise after certain transformations, inconsistent formats, missing values, and outliers. Other (not listed) problems may also occur, or fewer problems than those mentioned."
   ]
  },
  {
   "cell_type": "code",
   "execution_count": null,
   "id": "36173ac0-11b0-4083-81ab-c4078fa3ae48",
   "metadata": {},
   "outputs": [],
   "source": [
    "# code"
   ]
  },
  {
   "cell_type": "markdown",
   "id": "1329b59e-e86b-47cd-be07-75372ca52595",
   "metadata": {},
   "source": [
    "Comment"
   ]
  },
  {
   "cell_type": "markdown",
   "id": "ba93d8c1-c313-4f37-b859-7655bcb1e4d7",
   "metadata": {},
   "source": [
    "## B -  Data accuracy check"
   ]
  },
  {
   "cell_type": "markdown",
   "id": "a8149e09-f985-4260-bc6d-2cc9f37f9737",
   "metadata": {},
   "source": [
    "Do the data contain abnormal values?\n",
    "Do they include illogical relationships caused by data collection or annotation errors?"
   ]
  },
  {
   "cell_type": "code",
   "execution_count": null,
   "id": "dbdd7db3-d461-4487-b8e2-bf02d92add7b",
   "metadata": {},
   "outputs": [],
   "source": [
    "# code"
   ]
  },
  {
   "cell_type": "markdown",
   "id": "899d41e4-bce8-4b64-97dd-ef870c26e744",
   "metadata": {},
   "source": [
    "Comment"
   ]
  },
  {
   "cell_type": "markdown",
   "id": "52cb052c-bb06-42ab-96f4-0502477247ca",
   "metadata": {},
   "source": [
    "### C - Outlier detection"
   ]
  },
  {
   "cell_type": "markdown",
   "id": "2fbefd55-8def-454c-98fb-92baada503ae",
   "metadata": {},
   "source": [
    "Try to solve the problem using at least two techniques, e.g.:\n",
    " - Removing outliers or extreme observations\n",
    " - Replacing outliers with boundary values of the distribution (e.g., 5%, 95%)"
   ]
  },
  {
   "cell_type": "code",
   "execution_count": null,
   "id": "97f43d4b-4e92-4d42-8680-94ef155c6fd1",
   "metadata": {},
   "outputs": [],
   "source": [
    "# code"
   ]
  },
  {
   "cell_type": "markdown",
   "id": "20f8bf94-a4f9-48cf-93d5-5fe6cde91011",
   "metadata": {},
   "source": [
    "Comment"
   ]
  },
  {
   "cell_type": "markdown",
   "id": "795e9948-d703-43aa-8c17-703a0e09c437",
   "metadata": {},
   "source": [
    "## 1.3 Formulation and statistical verification of hypotheses about the data"
   ]
  },
  {
   "cell_type": "markdown",
   "id": "1e31dd10-b2c2-4784-99c2-eefd596be72d",
   "metadata": {},
   "source": [
    "### A - Hypotheses"
   ]
  },
  {
   "cell_type": "markdown",
   "id": "fa20f534-aa93-4856-9725-871c177f34fe",
   "metadata": {},
   "source": [
    "Formulate two hypotheses about the data in the context of the given prediction task. Verify the formulated hypotheses using appropriately chosen statistical tests.\n",
    "Example formulation:\n",
    "“FiO₂ has a higher average value in the state with oximetry than without it.”"
   ]
  },
  {
   "cell_type": "markdown",
   "id": "b10124e4-dc31-4214-b920-90d2b9daec42",
   "metadata": {},
   "source": [
    "#### Hypothesis 1"
   ]
  },
  {
   "cell_type": "markdown",
   "id": "bd63bd3b-3517-4284-937d-62df092e6cde",
   "metadata": {},
   "source": [
    "Text of the hypothesis"
   ]
  },
  {
   "cell_type": "markdown",
   "id": "215765c5-85d7-4fc6-be06-a99ee3dd3e30",
   "metadata": {},
   "source": [
    "Test comment"
   ]
  },
  {
   "cell_type": "code",
   "execution_count": null,
   "id": "3f16ef78-9d7b-406f-963a-2eabb610c70b",
   "metadata": {},
   "outputs": [],
   "source": [
    "# code"
   ]
  },
  {
   "cell_type": "markdown",
   "id": "5fa006c6-f15f-4ce9-aedd-8ff176f97761",
   "metadata": {},
   "source": [
    "Comment"
   ]
  },
  {
   "cell_type": "markdown",
   "id": "2bd87869-0046-4c5b-806f-3db6879b6209",
   "metadata": {},
   "source": [
    "#### Hypothesis 2"
   ]
  },
  {
   "cell_type": "markdown",
   "id": "c19cf40a-eccb-420e-a6fc-2e2a59531b44",
   "metadata": {},
   "source": [
    "Text of the hypothesis"
   ]
  },
  {
   "cell_type": "markdown",
   "id": "4a8033ad-6f32-46c6-9c49-c160d24a0cfc",
   "metadata": {},
   "source": [
    "Test comment"
   ]
  },
  {
   "cell_type": "code",
   "execution_count": null,
   "id": "89b7cc03-4be0-4bc5-bf84-217cbda33a81",
   "metadata": {},
   "outputs": [],
   "source": [
    "# code"
   ]
  },
  {
   "cell_type": "markdown",
   "id": "6ebc4929-cf9c-4dd4-bf8f-c5a9eb100b48",
   "metadata": {},
   "source": [
    "Comment"
   ]
  },
  {
   "cell_type": "markdown",
   "id": "2eb077a9-c5a8-4614-bc2e-17e7b206d835",
   "metadata": {},
   "source": [
    "### B - Statistical power"
   ]
  },
  {
   "cell_type": "markdown",
   "id": "558f12a0-db08-4e13-bb62-488e15aa2a89",
   "metadata": {},
   "source": [
    "Verify whether your statistical tests have sufficient support from the data — that is, whether they have enough statistical power."
   ]
  },
  {
   "cell_type": "markdown",
   "id": "71d4dbc7-fc96-41c3-a1ca-5e8cae7c2a2c",
   "metadata": {},
   "source": [
    "#### Hypothesis 1"
   ]
  },
  {
   "cell_type": "markdown",
   "id": "5d65c067-7bee-4f6d-ae6e-9945f0900a6c",
   "metadata": {},
   "source": [
    "Comment"
   ]
  },
  {
   "cell_type": "code",
   "execution_count": 5,
   "id": "e7c443c9-e11e-4710-95d6-5ae953f3ff04",
   "metadata": {},
   "outputs": [],
   "source": [
    "# code"
   ]
  },
  {
   "cell_type": "markdown",
   "id": "7d9a9b50-6ad7-443d-9678-01effe99c28e",
   "metadata": {},
   "source": [
    "#### Hypothesis 2"
   ]
  },
  {
   "cell_type": "markdown",
   "id": "82eb94c1-8a16-46d6-990a-24cc8e82d780",
   "metadata": {},
   "source": [
    "Comment"
   ]
  },
  {
   "cell_type": "code",
   "execution_count": 6,
   "id": "c196f271-86e5-45fc-904c-e943790a5a02",
   "metadata": {},
   "outputs": [],
   "source": [
    "# code"
   ]
  },
  {
   "cell_type": "markdown",
   "id": "292ed59b-41c2-4841-978c-71ecac63e6c4",
   "metadata": {},
   "source": [
    "# Conclusion"
   ]
  },
  {
   "cell_type": "code",
   "execution_count": null,
   "id": "934b159d-6918-48e4-a9c1-650d0130c857",
   "metadata": {},
   "outputs": [],
   "source": []
  }
 ],
 "metadata": {
  "kernelspec": {
   "display_name": "Python 3 (ipykernel)",
   "language": "python",
   "name": "python3"
  },
  "language_info": {
   "codemirror_mode": {
    "name": "ipython",
    "version": 3
   },
   "file_extension": ".py",
   "mimetype": "text/x-python",
   "name": "python",
   "nbconvert_exporter": "python",
   "pygments_lexer": "ipython3",
   "version": "3.12.7"
  }
 },
 "nbformat": 4,
 "nbformat_minor": 5
}
