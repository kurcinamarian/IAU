{
 "cells": [
  {
   "cell_type": "code",
   "execution_count": 1,
   "id": "8566efc8-6b5e-4c43-96da-c00857bbd37b",
   "metadata": {},
   "outputs": [],
   "source": [
    "# importy, napr:\n",
    "\n",
    "import matplotlib.pyplot as plt\n",
    "import seaborn as sns\n",
    "import pandas as pd\n",
    "import numpy as np\n",
    "import scipy.stats as stats\n",
    "import matplotlib.pyplot as plt\n",
    "import seaborn as sns\n",
    "import numpy as np\n",
    "import scipy.stats as stats\n",
    "from sklearn.pipeline import make_pipeline\n",
    "from sklearn.preprocessing import StandardScaler\n",
    "from sklearn.linear_model import LogisticRegression\n",
    "from sklearn.model_selection import train_test_split, cross_val_score\n",
    "from sklearn.model_selection import StratifiedKFold, cross_val_score, cross_val_predict\n",
    "from sklearn.metrics import confusion_matrix, ConfusionMatrixDisplay, classification_report"
   ]
  },
  {
   "cell_type": "markdown",
   "id": "fb1da9c9-20df-4c61-9255-71766bdb2b79",
   "metadata": {},
   "source": [
    " ##### percentuálny podiel práce členov dvojice:"
   ]
  },
  {
   "cell_type": "code",
   "execution_count": 2,
   "id": "89df2b86-47cf-42cb-8423-baa0f62b750e",
   "metadata": {},
   "outputs": [],
   "source": [
    "# add"
   ]
  },
  {
   "cell_type": "markdown",
   "id": "294b97b7-180a-4331-827f-769e48363153",
   "metadata": {},
   "source": [
    "### Zadanie\n",
    "Saturácia kyslíkom (angl. oxygen saturation) je kľúčovým ukazovateľom správneho fungovania dýchacej a obehovej sústavy. Ak jej hodnota klesne na kriticky nízku úroveň, môže to signalizovať život ohrozujúce stavy, ako sú hypoxémia, respiračné zlyhanie alebo závažné infekcie. V takýchto prípadoch je nevyhnutný rýchly zásah. Tradičné monitorovanie sa realizuje pomocou pulzných oxymetrov, ktoré však môžu byť ovplyvnené šumom, pohybovými artefaktmi alebo majú obmedzenia v niektorých klinických situáciách.\n",
    "\n",
    "Moderné prístupy založené na strojovom učení prinášajú možnosť presnejšie odhadovať a predikovať kritické hodnoty saturácie kyslíkom (critical oxygen saturation estimation). Modely môžu využívať multimodálne údaje, ako sú srdcová frekvencia, dychová frekvencia, krvný tlak či signály zo senzorov. Vďaka trénovaniu na rôznorodých dátach je možné identifikovať skoré varovné príznaky desaturácie, odfiltrovať šum a poskytnúť včasné upozornenia ešte pred poklesom saturácie pod bezpečnú hranicu.\n",
    "\n",
    "Cieľom tohto zadania je oboznámiť sa s problematikou monitorovania saturácie kyslíkom, pochopiť prínos umelej inteligencie a navrhnúť riešenie, ktoré by mohlo prispieť k zlepšeniu kritickej starostlivosti a zníženiu rizík spojených s neodhalenou hypoxémiou.\n"
   ]
  },
  {
   "cell_type": "markdown",
   "id": "b04596e8-7914-4856-bd59-3aa0d1197beb",
   "metadata": {},
   "source": [
    "# Načítanie dát"
   ]
  },
  {
   "cell_type": "code",
   "execution_count": 3,
   "id": "3caf8158-74a4-4244-9148-4ce2473eb506",
   "metadata": {},
   "outputs": [],
   "source": [
    "# add"
   ]
  },
  {
   "cell_type": "markdown",
   "id": "ae1e77ed-f138-4c5f-a4ad-eb4f8205c0b4",
   "metadata": {},
   "source": [
    "# 1.1 Základný opis dát spolu s ich charakteristikami (5b)\n",
    "\n",
    "### (A-1b) Analýza štruktúr dát ako súbory (štruktúry a vzťahy, počet, typy, …), záznamy (štruktúry, počet záznamov, počet atribútov, typy, …)"
   ]
  },
  {
   "cell_type": "code",
   "execution_count": 4,
   "id": "1fb458b5-dfd0-419d-bc99-ee7483b2a15a",
   "metadata": {},
   "outputs": [],
   "source": [
    "# add"
   ]
  },
  {
   "cell_type": "markdown",
   "id": "ca642767-d7ce-47df-8c2f-1bb7e5ac7ac3",
   "metadata": {},
   "source": [
    "### (B-1b) Analýza jednotlivých atribútov: pre zvolené významné atribúty (min 10) analyzujte ich distribúcie a základné deskriptívne štatistiky a či spĺňa predpísané podmienky a rozsah meraných hodnôt. "
   ]
  },
  {
   "cell_type": "code",
   "execution_count": 5,
   "id": "fac95a24-af7b-48d8-b2f9-b30f3c950da5",
   "metadata": {},
   "outputs": [],
   "source": [
    "# add"
   ]
  },
  {
   "cell_type": "markdown",
   "id": "b15797ce-6f8f-40de-9b4a-83b18438f922",
   "metadata": {},
   "source": [
    "### (C-1b) Párová analýza dát: Identifikujte vzťahy a závislostí medzi dvojicami atribútov."
   ]
  },
  {
   "cell_type": "code",
   "execution_count": 6,
   "id": "86deb68d-dda3-4abd-baa4-4df78c8ea3bb",
   "metadata": {},
   "outputs": [],
   "source": [
    "# add"
   ]
  },
  {
   "cell_type": "markdown",
   "id": "ce8f2115-d7bf-48ea-b887-c10f9c7b047a",
   "metadata": {},
   "source": [
    "### (D-1b) Párová analýza dát: Identifikujte závislosti medzi predikovanou premennou a ostatnými premennými (potenciálnymi prediktormi)."
   ]
  },
  {
   "cell_type": "code",
   "execution_count": 7,
   "id": "e574c15e-8f7d-47d9-b274-192aa3dfc92b",
   "metadata": {},
   "outputs": [],
   "source": [
    "# add"
   ]
  },
  {
   "cell_type": "markdown",
   "id": "a8780394-1588-4a59-b55c-8aae5082e129",
   "metadata": {},
   "source": [
    "### (E-1b) Dokumentujte Vaše prvotné zamyslenie k riešeniu zadania projektu, napr. sú niektoré atribúty medzi sebou závislé? od ktorých atribútov závisí predikovaná premenná? či je potrebné kombinovať záznamy z viacerých súborov? "
   ]
  },
  {
   "cell_type": "code",
   "execution_count": 8,
   "id": "97e4d7e5-775a-4d61-a693-ac707fec7276",
   "metadata": {},
   "outputs": [],
   "source": [
    "#add"
   ]
  },
  {
   "cell_type": "markdown",
   "id": "49fb4ceb-c286-417e-86c2-bdf006c54192",
   "metadata": {},
   "source": [
    "# 1.2 Identifikácia problémov, integrácia a čistenie dát (5b)\n",
    "\n",
    "### (A-2b) Identifikujte aj prvotne riešte problémy v dátach napr.: nevhodná štruktúra dát, duplicitné záznamy, ktoré môžu vznikať po určitých dátových transformáciach, nejednotné formáty, chýbajúce hodnoty, vychýlené hodnoty. V dátach sa môžu nachádzať aj iné, tu nevymenované problémy, resp. menej problémov ako bolo uvedených. "
   ]
  },
  {
   "cell_type": "code",
   "execution_count": 9,
   "id": "43d5772b-f2f2-4b51-8e52-c63fb5933a83",
   "metadata": {},
   "outputs": [],
   "source": [
    "# add"
   ]
  },
  {
   "cell_type": "markdown",
   "id": "0136190b-4bc6-40a8-9ade-a550482d9450",
   "metadata": {},
   "source": [
    "### (B-2b) Kontrola správnosť v dátach\n",
    "- či obsahujú abnormálne hodnoty\n",
    "- či obsahujú nelogické dátové vzťahy, ktoré sú následkom dátovej kolekcie a anotovania dát   "
   ]
  },
  {
   "cell_type": "code",
   "execution_count": 10,
   "id": "81887369-3302-48c6-99a6-dbf14a59472b",
   "metadata": {},
   "outputs": [],
   "source": [
    "# add"
   ]
  },
  {
   "cell_type": "markdown",
   "id": "2bbb7749-fb7f-4e16-995c-f53a2ab38675",
   "metadata": {},
   "source": [
    "### (C-1b) Vychýlené hodnoty (outlier detection), vyskúšajte riešiť problém min. 2 technikami\n",
    "- odstránenie vychýlených alebo odľahlých pozorovaní\n",
    "- nahradenie vychýlenej hodnoty hraničnými hodnotami rozdelenia (napr. 5%, 95%)"
   ]
  },
  {
   "cell_type": "code",
   "execution_count": 11,
   "id": "fe26e9fc-2576-4d07-b42d-1a8e9b7e0c5e",
   "metadata": {},
   "outputs": [],
   "source": [
    "# add"
   ]
  },
  {
   "cell_type": "markdown",
   "id": "83b4b182-77ce-4fa8-80c0-fea2fc7826a0",
   "metadata": {},
   "source": [
    "### Zhodnotenie"
   ]
  },
  {
   "cell_type": "code",
   "execution_count": 12,
   "id": "0f34f1ed-b2dc-4461-a023-7e75eecf0aa0",
   "metadata": {},
   "outputs": [],
   "source": [
    "# Majú dáta vhodný formát pre ďalšie spracovanie? \n",
    "# Aké problémy sa v nich vyskytujú? \n",
    "# Nadobúdajú niektoré atribúty nekonzistentné hodnoty? \n",
    "# Ako riešíte tieto Vami identifikované problémy?"
   ]
  },
  {
   "cell_type": "code",
   "execution_count": null,
   "id": "564beda6-0e1a-4f4b-a3ad-ecbfb5db013d",
   "metadata": {},
   "outputs": [],
   "source": []
  },
  {
   "cell_type": "markdown",
   "id": "d7027a6d-2e7e-46f8-9f45-2f77988d4f69",
   "metadata": {},
   "source": [
    "# 1.3 Formulácia a štatistické overenie hypotéz o dátach (5b)\n",
    "### (A-4b) Sformulujte dve hypotézy o dátach v kontexte zadanej predikčnej úlohy. Formulované hypotézy overte vhodne zvolenými štatistickými testami.\n",
    "- Príklad formulovania:  FiO₂ má v priemere vyššiu hodnotu v stave s oximetry ako bez nej."
   ]
  },
  {
   "cell_type": "code",
   "execution_count": 13,
   "id": "bf140f17-45e6-4f86-8519-468d6d7df283",
   "metadata": {},
   "outputs": [],
   "source": [
    "# add"
   ]
  },
  {
   "cell_type": "markdown",
   "id": "8cbf0aa8-d044-4d0a-8ffc-6b6f87cb3c9d",
   "metadata": {},
   "source": [
    "### (B-1b) Overte či Vaše štatistické testy majú dostatok podpory z dát, teda či majú dostatočne silnú štatistickú silu."
   ]
  },
  {
   "cell_type": "code",
   "execution_count": 14,
   "id": "d9a27f9a-fdea-458a-aade-053f0417ddf1",
   "metadata": {},
   "outputs": [],
   "source": [
    "# add"
   ]
  },
  {
   "cell_type": "code",
   "execution_count": 15,
   "id": "67a9911b-324f-48e4-a884-5760b7828452",
   "metadata": {},
   "outputs": [],
   "source": [
    "# Odpoveď: štatistické testy majú / nemajú dostatok opory ........."
   ]
  },
  {
   "cell_type": "code",
   "execution_count": null,
   "id": "27d95939-e694-4315-85ea-dddd3018b1a1",
   "metadata": {},
   "outputs": [],
   "source": []
  }
 ],
 "metadata": {
  "kernelspec": {
   "display_name": "Python 3 (ipykernel)",
   "language": "python",
   "name": "python3"
  },
  "language_info": {
   "codemirror_mode": {
    "name": "ipython",
    "version": 3
   },
   "file_extension": ".py",
   "mimetype": "text/x-python",
   "name": "python",
   "nbconvert_exporter": "python",
   "pygments_lexer": "ipython3",
   "version": "3.12.3"
  }
 },
 "nbformat": 4,
 "nbformat_minor": 5
}
